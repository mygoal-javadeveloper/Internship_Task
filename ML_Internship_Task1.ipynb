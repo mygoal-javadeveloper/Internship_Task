{
  "nbformat": 4,
  "nbformat_minor": 0,
  "metadata": {
    "colab": {
      "name": "ML_Internship_Task1.ipynb",
      "provenance": [],
      "collapsed_sections": []
    },
    "kernelspec": {
      "name": "python3",
      "display_name": "Python 3"
    }
  },
  "cells": [
    {
      "cell_type": "markdown",
      "metadata": {
        "id": "eGwcuRdOfVdI"
      },
      "source": [
        "## Machine Learning internship\n",
        "## Task:\n",
        "### Example:\n",
        "  1. User applies for a job and receive a confirmation email.\n",
        "  2. The subject of the email contains the keywords \"Thank you for applying\".\n",
        "  3. User applies for n number of jobs and receives n number of emails, subject containing the keywords \"Thank you for applying\".\n",
        "  4. Filter out all the emails received after applying for a job.\n",
        "\n"
      ]
    },
    {
      "cell_type": "code",
      "metadata": {
        "id": "O7zJ2ud_SDCp"
      },
      "source": [
        "#importing the required libraries:\n",
        "import numpy as np\n",
        "import pandas as pd"
      ],
      "execution_count": 1,
      "outputs": []
    },
    {
      "cell_type": "code",
      "metadata": {
        "id": "QhRQ4l-Rfy75",
        "outputId": "2872cc1f-2202-473a-e8bc-fc52f30b8bde",
        "colab": {
          "base_uri": "https://localhost:8080/",
          "height": 34
        }
      },
      "source": [
        "#Python library for reading IMAP mailboxes and converting the email content to human readable data\n",
        "!pip install mailbox"
      ],
      "execution_count": 2,
      "outputs": [
        {
          "output_type": "stream",
          "text": [
            "Requirement already satisfied: mailbox in /usr/local/lib/python3.6/dist-packages (0.4)\n"
          ],
          "name": "stdout"
        }
      ]
    },
    {
      "cell_type": "code",
      "metadata": {
        "id": "VpOslESsf_gs"
      },
      "source": [
        "#loading the dataset\n",
        "#converting gmail content to mbox details can be referred from https://spinbackup.com/blog/how-to-import-mbox-to-gmail/\n",
        "#the file will be data.mbox but I have downloaded only inbox content thus my filename is Inbox.mbox\n",
        "\n",
        "import mailbox\n",
        "mboxfile = \"Inbox.mbox\"\n",
        "\n",
        "inbox_mbox = mailbox.mbox(mboxfile)"
      ],
      "execution_count": 3,
      "outputs": []
    },
    {
      "cell_type": "code",
      "metadata": {
        "id": "8KPVJnMXlOrO",
        "outputId": "edb0772a-b232-40e4-9b29-ffcac141f7b5",
        "colab": {
          "base_uri": "https://localhost:8080/",
          "height": 425
        }
      },
      "source": [
        "#checking the list of available keys in inbox_mbox\n",
        "for key in inbox_mbox[0].keys():\n",
        "    print(key)"
      ],
      "execution_count": 4,
      "outputs": [
        {
          "output_type": "stream",
          "text": [
            "X-GM-THRID\n",
            "X-Gmail-Labels\n",
            "Delivered-To\n",
            "Received\n",
            "X-Received\n",
            "ARC-Seal\n",
            "ARC-Message-Signature\n",
            "ARC-Authentication-Results\n",
            "Return-Path\n",
            "Received\n",
            "Received-SPF\n",
            "Authentication-Results\n",
            "DKIM-Signature\n",
            "X-Google-DKIM-Signature\n",
            "X-Gm-Message-State\n",
            "X-Google-Smtp-Source\n",
            "X-Received\n",
            "MIME-Version\n",
            "From\n",
            "Date\n",
            "Message-ID\n",
            "Subject\n",
            "To\n",
            "Content-Type\n"
          ],
          "name": "stdout"
        }
      ]
    },
    {
      "cell_type": "code",
      "metadata": {
        "id": "7nbIuECalhNV"
      },
      "source": [
        "import csv\n",
        "#creating a csv file with only the required attributes:\n",
        "with open('inbox.csv', 'w') as outputfile:\n",
        "    writer = csv.writer(outputfile)\n",
        "    writer.writerow(['subject','from','date'])\n",
        "    for message in inbox_mbox:\n",
        "        writer.writerow([message['Subject'], message['From'],  message['Date']])"
      ],
      "execution_count": 5,
      "outputs": []
    },
    {
      "cell_type": "code",
      "metadata": {
        "id": "R3N5E3yjnPeY"
      },
      "source": [
        "#reading the csv file, our dataset\n",
        "emaildata = pd.read_csv('inbox.csv')"
      ],
      "execution_count": 6,
      "outputs": []
    },
    {
      "cell_type": "code",
      "metadata": {
        "id": "ZyGQWoqqnv_C"
      },
      "source": [
        "#first 5 rows content of the dataset\n",
        "emaildata.head()"
      ],
      "execution_count": null,
      "outputs": []
    },
    {
      "cell_type": "code",
      "metadata": {
        "id": "BME1DPUipC20",
        "outputId": "2bc445d0-6392-4213-9da6-916deb89d872",
        "colab": {
          "base_uri": "https://localhost:8080/",
          "height": 187
        }
      },
      "source": [
        "#getting brief overview of the dataset - number of columns and rows (shape of dataset), columns names and its dtype, how many non-null values it has and memory usage\n",
        "emaildata.info()"
      ],
      "execution_count": 8,
      "outputs": [
        {
          "output_type": "stream",
          "text": [
            "<class 'pandas.core.frame.DataFrame'>\n",
            "RangeIndex: 928 entries, 0 to 927\n",
            "Data columns (total 3 columns):\n",
            " #   Column   Non-Null Count  Dtype \n",
            "---  ------   --------------  ----- \n",
            " 0   subject  928 non-null    object\n",
            " 1   from     928 non-null    object\n",
            " 2   date     928 non-null    object\n",
            "dtypes: object(3)\n",
            "memory usage: 21.9+ KB\n"
          ],
          "name": "stdout"
        }
      ]
    },
    {
      "cell_type": "code",
      "metadata": {
        "id": "RcSll3Topv7v"
      },
      "source": [
        "#converting date column from object to DateTime\n",
        "emaildata['date'] = emaildata['date'].apply(lambda x: pd.to_datetime(x, errors='coerce', utc=True))"
      ],
      "execution_count": 9,
      "outputs": []
    },
    {
      "cell_type": "code",
      "metadata": {
        "id": "uO34Mm45yh1i"
      },
      "source": [
        "#extracting the date only\n",
        "emaildata['date'] = emaildata['date'].dt.date"
      ],
      "execution_count": 10,
      "outputs": []
    },
    {
      "cell_type": "code",
      "metadata": {
        "id": "w9YGAbLyz2b2",
        "outputId": "79ab76d6-a1a4-496d-a42a-cbda305a58da",
        "colab": {
          "base_uri": "https://localhost:8080/",
          "height": 187
        }
      },
      "source": [
        "#getting brief overview of the dataset - number of columns and rows (shape of dataset), columns names and its dtype, how many non-null values it has and memory usage\n",
        "emaildata.info()"
      ],
      "execution_count": 11,
      "outputs": [
        {
          "output_type": "stream",
          "text": [
            "<class 'pandas.core.frame.DataFrame'>\n",
            "RangeIndex: 928 entries, 0 to 927\n",
            "Data columns (total 3 columns):\n",
            " #   Column   Non-Null Count  Dtype \n",
            "---  ------   --------------  ----- \n",
            " 0   subject  928 non-null    object\n",
            " 1   from     928 non-null    object\n",
            " 2   date     928 non-null    object\n",
            "dtypes: object(3)\n",
            "memory usage: 21.9+ KB\n"
          ],
          "name": "stdout"
        }
      ]
    },
    {
      "cell_type": "code",
      "metadata": {
        "id": "YvnxJ0qUyvz9"
      },
      "source": [
        "#converting date column from object to DateTime\n",
        "emaildata['date'] = emaildata['date'].astype('datetime64[ns]')"
      ],
      "execution_count": 12,
      "outputs": []
    },
    {
      "cell_type": "code",
      "metadata": {
        "id": "WcPZXHy8qGO2",
        "outputId": "7d21d6a5-2503-4224-e9b4-2833093192c4",
        "colab": {
          "base_uri": "https://localhost:8080/",
          "height": 187
        }
      },
      "source": [
        "#getting brief overview of the dataset - number of columns and rows (shape of dataset), columns names and its dtype, how many non-null values it has and memory usage\n",
        "emaildata.info()"
      ],
      "execution_count": 13,
      "outputs": [
        {
          "output_type": "stream",
          "text": [
            "<class 'pandas.core.frame.DataFrame'>\n",
            "RangeIndex: 928 entries, 0 to 927\n",
            "Data columns (total 3 columns):\n",
            " #   Column   Non-Null Count  Dtype         \n",
            "---  ------   --------------  -----         \n",
            " 0   subject  928 non-null    object        \n",
            " 1   from     928 non-null    object        \n",
            " 2   date     928 non-null    datetime64[ns]\n",
            "dtypes: datetime64[ns](1), object(2)\n",
            "memory usage: 21.9+ KB\n"
          ],
          "name": "stdout"
        }
      ]
    },
    {
      "cell_type": "code",
      "metadata": {
        "id": "GxXUpC39qGLb"
      },
      "source": [
        "#first 5 rows content of the dataset\n",
        "emaildata.head()"
      ],
      "execution_count": null,
      "outputs": []
    },
    {
      "cell_type": "code",
      "metadata": {
        "id": "vTn6id0_0iiP"
      },
      "source": [
        "\n",
        "job_category_lst = [] #a full list containing subject, from, date of emails having 'Thank you for applying' keywords in email subject\n",
        "job_category_dict = {} #a dictionary of different job categories counts from emails having 'Thank you for applying' keywords in email subject\n",
        "for index, row in emaildata.iterrows():\n",
        "  if 'Thank you for applying' in row['subject']:\n",
        "    innerlst = [row['subject'], row['from'], row['date']]\n",
        "    job_category_lst.append(innerlst)\n",
        "    if 'AI Intern' in row['subject']:\n",
        "      if 'AI Intern' in job_category_dict:\n",
        "        job_category_dict['AI Intern'] += 1\n",
        "      else:\n",
        "        job_category_dict['AI Intern'] = 1\n",
        "    if 'Data Scientist Intern' in row['subject']:\n",
        "      if 'Data Scientist Intern' in job_category_dict:\n",
        "        job_category_dict['Data Scientist Intern'] += 1\n",
        "      else:\n",
        "        job_category_dict['Data Scientist Intern'] = 1\n",
        "    if 'Machine Learning / Deep Learning Intern' in row['subject']:\n",
        "      if 'Machine Learning / Deep Learning Intern' in job_category_dict:\n",
        "        job_category_dict['Machine Learning / Deep Learning Intern'] += 1\n",
        "      else:\n",
        "        job_category_dict['Machine Learning / Deep Learning Intern'] = 1"
      ],
      "execution_count": 15,
      "outputs": []
    },
    {
      "cell_type": "code",
      "metadata": {
        "id": "nIQJVN3yAxw0"
      },
      "source": [
        "#a full list containing subject, from, date of emails having 'Thank you for applying' keywords in email subject\n",
        "job_category_lst"
      ],
      "execution_count": null,
      "outputs": []
    },
    {
      "cell_type": "code",
      "metadata": {
        "id": "DgehhKxMA0TL",
        "outputId": "3a9c5049-6964-4b64-9cc9-be01248b92bb",
        "colab": {
          "base_uri": "https://localhost:8080/",
          "height": 68
        }
      },
      "source": [
        "#a dictionary of different job categories counts from emails having 'Thank you for applying' keywords in email subject\n",
        "job_category_dict"
      ],
      "execution_count": 17,
      "outputs": [
        {
          "output_type": "execute_result",
          "data": {
            "text/plain": [
              "{'AI Intern': 1,\n",
              " 'Data Scientist Intern': 1,\n",
              " 'Machine Learning / Deep Learning Intern': 1}"
            ]
          },
          "metadata": {
            "tags": []
          },
          "execution_count": 17
        }
      ]
    }
  ]
}